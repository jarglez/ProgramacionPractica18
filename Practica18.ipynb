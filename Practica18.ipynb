{
 "cells": [
  {
   "cell_type": "markdown",
   "metadata": {},
   "source": [
    "# Práctica 18: \n",
    "\n",
    "Elaboró: Carlos Alejandro Jarero Gonzalez <al255813@alumnos.uacj.mx>\n",
    "\n",
    "Matrícula: 255813\n",
    "\n",
    "El presente Notebook fue relizado en equipo local con Kernel Python 3.11.8 en VS Code.\n",
    "\n",
    "## Objetivos\n",
    "\n",
    "El objetivo de esta actividad que el alumno haga un Exploratory Descriptive Analysis (EDA).\n",
    "\n",
    "## Instrucciones de uso\n",
    "\n",
    "Este notebook puede extraer datos del archivo ```AirQuality.csv```, para analizar la información presente.\n",
    "\n",
    "Si quieres cambiar el archivo, o la dirección del mismo, solo ve a la sección de parameters y cambia el ```input_path```.\n",
    "\n",
    "### Si usas Google Colab\n",
    "\n",
    "1. Ve a la sección de Files y asegurate de tener habilitado el acceso a tu Google Drive, de lo contrario hablitalo y dale los permisos correspondientes.\n",
    "2. Si ya has realizado el paso anterior verás en tu notebook la siguiente instrucción de python para montar un volumen en el caso de linux ```/content/drive```, esto puede cambiar en diferentes sistemas operativos.\n",
    "![Drive Mounting](./assets/DriveMount.png)\n",
    "3. Asegurate de ejecutar la sección previa, dependidendo si ya has dado o no los permisos en este paso puede que de nuevo te solicite darle permiso. \n",
    "4. Ahora verás um directorio llamado drive donde encontarás tu Drive, ahí sube el archvio a procesar.\n",
    "5. Copia el path absoluto de archivo de ```AirQuality.csv``` en ```input_path```.\n",
    "\n",
    "## Descripción del conjunto de datos\n",
    "\n",
    "Utiliza el conjunto de datos \"Air Quality\" disponible al final de esta practica. Este conjunto contiene datos horarios de sensores de calidad del aire, incluyendo niveles de CO, NOx, y otros contaminantes. El conjunto de datos tiene valores faltantes y columnas categóricas (por ejemplo, el día de la semana).\n",
    "\n",
    "\n",
    "## Instrucciones para los estudiantes:\n",
    "\n",
    "1. Descargar el archivo AirQuality.csv desde el enlace proporcionado.\n",
    "\n",
    "2. Realizar un EDA completo, incluyendo:\n",
    "\n",
    "- Descripción de los datos (medias, medianas, desviaciones estándar, etc.).\n",
    "- Histogramas para las columnas numéricas.\n",
    "- Gráficas de barras para las columnas categóricas (por ejemplo, DayOfWeek).\n",
    "- Boxplots para identificar outliers en las columnas numéricas.\n",
    "- Matriz de correlación y mapa de calor.\n",
    "- Pairplot para visualizar relaciones entre variables numéricas.\n",
    "- Pruebas de normalidad (Shapiro-Wilk, Anderson-Darling, Kolmogorov-Smirnov) y QQplot para las columnas numéricas.\n",
    "\n",
    "3. Identificar y tratar los datos faltantes utilizando técnicas como imputación por media, mediana o moda, o eliminación de filas/columnas según sea apropiado.\n",
    "\n",
    "4. Repetir el EDA después del tratamiento de datos faltantes y comparar los resultados."
   ]
  }
 ],
 "metadata": {
  "kernelspec": {
   "display_name": "base",
   "language": "python",
   "name": "python3"
  },
  "language_info": {
   "name": "python",
   "version": "3.11.8"
  }
 },
 "nbformat": 4,
 "nbformat_minor": 2
}
